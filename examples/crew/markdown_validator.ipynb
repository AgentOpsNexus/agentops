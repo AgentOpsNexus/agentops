{
 "cells": [
  {
   "metadata": {},
   "cell_type": "markdown",
   "source": "# CrewAI Markdown Validator\n",
   "id": "9b2dac908ce82802"
  },
  {
   "metadata": {
    "ExecuteTime": {
     "end_time": "2024-08-09T20:01:37.256790Z",
     "start_time": "2024-08-09T20:01:33.192286Z"
    }
   },
   "cell_type": "code",
   "source": [
    "import sys\n",
    "from crewai import Agent, Task\n",
    "import os\n",
    "from dotenv import load_dotenv\n",
    "from langchain_openai import ChatOpenAI\n",
    "import agentops\n",
    "from langchain_groq import ChatGroq\n",
    "from langchain.tools import tool\n",
    "from pymarkdown.api import PyMarkdownApi, PyMarkdownApiException"
   ],
   "id": "3930dc4c82f117b6",
   "outputs": [],
   "execution_count": 1
  },
  {
   "metadata": {
    "ExecuteTime": {
     "end_time": "2024-08-09T20:01:38.365934Z",
     "start_time": "2024-08-09T20:01:37.257742Z"
    }
   },
   "cell_type": "code",
   "source": [
    "load_dotenv()\n",
    "agentops.init(api_key=os.getenv('AGENTOPS_API_KEY', None), default_tags=['markdown_validator'])"
   ],
   "id": "701a00a193b93118",
   "outputs": [
    {
     "name": "stderr",
     "output_type": "stream",
     "text": [
      "🖇 AgentOps:  WARNING: agentops is out of date. Please update with the command: 'pip install --upgrade agentops'\n",
      "🖇 AgentOps: \u001B[34m\u001B[34mSession Replay: https://app.agentops.ai/drilldown?session_id=abb92bd6-f875-484e-8fee-318d35f3a936\u001B[0m\u001B[0m\n"
     ]
    },
    {
     "data": {
      "text/plain": [
       "<agentops.session.Session at 0x31ce27f10>"
      ]
     },
     "execution_count": 2,
     "metadata": {},
     "output_type": "execute_result"
    }
   ],
   "execution_count": 2
  },
  {
   "metadata": {
    "ExecuteTime": {
     "end_time": "2024-08-09T20:01:38.373405Z",
     "start_time": "2024-08-09T20:01:38.366741Z"
    }
   },
   "cell_type": "code",
   "source": [
    "@tool(\"markdown_validation_tool\")\n",
    "def markdown_validation_tool(file_path: str) -> str:\n",
    "    \"\"\"\n",
    "    A tool to review files for markdown syntax errors.\n",
    "\n",
    "    Parameters:\n",
    "    - file_path: The path to the markdown file to be reviewed.\n",
    "\n",
    "    Returns:\n",
    "    - validation_results: A list of validation results \n",
    "    and suggestions on how to fix them.\n",
    "    \"\"\"\n",
    "\n",
    "    print(\"\\n\\nValidating Markdown syntax...\\n\\n\" + file_path)\n",
    "\n",
    "    try:\n",
    "        if not (os.path.exists(file_path)):\n",
    "            return \"Could not validate file. The provided file path does not exist.\"\n",
    "\n",
    "        scan_result = PyMarkdownApi().scan_path(file_path.rstrip().lstrip())\n",
    "        results = str(scan_result)\n",
    "        return results  # Return the reviewed document\n",
    "    except PyMarkdownApiException as this_exception:\n",
    "        print(f\"API Exception: {this_exception}\", file=sys.stderr)\n",
    "        return f\"API Exception: {str(this_exception)}\"\n"
   ],
   "id": "cb2152baa314da66",
   "outputs": [],
   "execution_count": 3
  },
  {
   "metadata": {
    "ExecuteTime": {
     "end_time": "2024-08-09T20:05:02.074783Z",
     "start_time": "2024-08-09T20:05:02.064700Z"
    }
   },
   "cell_type": "code",
   "source": [
    "def process_markdown_document(filename):\n",
    "    \"\"\"\n",
    "    Processes a markdown document by reviewing its syntax validation \n",
    "    results and providing feedback on necessary changes.\n",
    "\n",
    "    Args:\n",
    "        filename (str): The path to the markdown file to be processed.\n",
    "\n",
    "    Returns:\n",
    "        str: The list of recommended changes to make to the document.\n",
    "\n",
    "    \"\"\"\n",
    "\n",
    "    # Define general agent\n",
    "    general_agent  = Agent(role='Requirements Manager',\n",
    "                    goal=\"\"\"Provide a detailed list of the markdown \n",
    "                            linting results. Give a summary with actionable \n",
    "                            tasks to address the validation results. Write your \n",
    "                            response as if you were handing it to a developer \n",
    "                            to fix the issues.\n",
    "                            DO NOT provide examples of how to fix the issues or\n",
    "                            recommend other tools to use.\"\"\",\n",
    "                    backstory=\"\"\"You are an expert business analyst \n",
    "\t\t\t\t\tand software QA specialist. You provide high quality, \n",
    "                    thorough, insightful and actionable feedback via \n",
    "                    detailed list of changes and actionable tasks.\"\"\",\n",
    "                    allow_delegation=False, \n",
    "                    verbose=True,\n",
    "                    tools=[markdown_validation_tool],\n",
    "                    llm=default_llm)  #groq_llm) #\n",
    "\n",
    "\n",
    "    # Define Tasks Using Crew Tools\n",
    "    syntax_review_task = Task(description=f\"\"\"\n",
    "\t\t\tUse the markdown_validation_tool to review \n",
    "\t\t\tthe file(s) at this path: {filename}\n",
    "            \n",
    "\t\t\tBe sure to pass only the file path to the markdown_validation_tool.\n",
    "\t\t\tUse the following format to call the markdown_validation_tool:\n",
    "\t\t\tDo I need to use a tool? Yes\n",
    "\t\t\tAction: markdown_validation_tool\n",
    "\t\t\tAction Input: {filename}\n",
    "\n",
    "\t\t\tGet the validation results from the tool \n",
    "\t\t\tand then summarize it into a list of changes\n",
    "\t\t\tthe developer should make to the document.\n",
    "            DO NOT recommend ways to update the document.\n",
    "            DO NOT change any of the content of the document or\n",
    "            add content to it. It is critical to your task to\n",
    "            only respond with a list of changes.\n",
    "\t\t\t\n",
    "\t\t\tIf you already know the answer or if you do not need \n",
    "\t\t\tto use a tool, return it as your Final Answer.\"\"\",\n",
    "            agent=general_agent,\n",
    "            expected_output=\"\")\n",
    "    \n",
    "    updated_markdown = syntax_review_task.execute_sync()\n",
    "\n",
    "    return updated_markdown"
   ],
   "id": "824707e855b418c5",
   "outputs": [],
   "execution_count": 10
  },
  {
   "metadata": {
    "ExecuteTime": {
     "end_time": "2024-08-09T20:05:02.464089Z",
     "start_time": "2024-08-09T20:05:02.435039Z"
    }
   },
   "cell_type": "code",
   "source": [
    "groq_llm = ChatGroq(\n",
    "            temperature=0,\n",
    "            groq_api_key=os.environ.get(\"GROQ_API_KEY\"),\n",
    "            model_name=\"llama3-70b-8192\",\n",
    "        )\n",
    "\n",
    "default_llm = ChatOpenAI(openai_api_base=os.environ.get(\"OPENAI_API_BASE_URL\", \"https://api.openai.com/v1\"),\n",
    "                        openai_api_key=os.environ.get(\"OPENAI_API_KEY\"),\n",
    "                        temperature=0.1,                        \n",
    "                        model_name=os.environ.get(\"MODEL_NAME\", \"gpt-3.5-turbo\"))\n"
   ],
   "id": "4bbeec0eb7d000ca",
   "outputs": [],
   "execution_count": 11
  },
  {
   "metadata": {
    "ExecuteTime": {
     "end_time": "2024-08-09T20:05:08.894903Z",
     "start_time": "2024-08-09T20:05:02.910564Z"
    }
   },
   "cell_type": "code",
   "source": [
    "filename = \"README.md\"\n",
    "processed_document = process_markdown_document(filename)\n",
    "print(processed_document)"
   ],
   "id": "805ded98160f35ca",
   "outputs": [
    {
     "name": "stdout",
     "output_type": "stream",
     "text": [
      "\n",
      "\n",
      "\u001B[1m> Entering new CrewAgentExecutor chain...\u001B[0m\n",
      "\u001B[32;1m\u001B[1;3mI need to use the markdown_validation_tool to review the README.md file and provide a list of changes for the developer to address.\n",
      "\n",
      "Action: markdown_validation_tool\n",
      "Action Input: {'file_path': 'README.md'}\n",
      "\u001B[0m\n",
      "\n",
      "Validating Markdown syntax...\n",
      "\n",
      "README.md\n",
      "\u001B[95m \n",
      "\n",
      "PyMarkdownScanPathResult(scan_failures=[PyMarkdownScanFailure(scan_file='README.md', line_number=3, column_number=1, rule_id='MD022', rule_name='blanks-around-headings,blanks-around-headers', rule_description='Headings should be surrounded by blank lines.', extra_error_information=' [Expected: 1; Actual: 0; Below]'), PyMarkdownScanFailure(scan_file='README.md', line_number=4, column_number=1, rule_id='MD013', rule_name='line-length', rule_description='Line length', extra_error_information=' [Expected: 80, Actual: 288]'), PyMarkdownScanFailure(scan_file='README.md', line_number=6, column_number=1, rule_id='MD022', rule_name='blanks-around-headings,blanks-around-headers', rule_description='Headings should be surrounded by blank lines.', extra_error_information=' [Expected: 1; Actual: 0; Below]'), PyMarkdownScanFailure(scan_file='README.md', line_number=7, column_number=1, rule_id='MD013', rule_name='line-length', rule_description='Line length', extra_error_information=' [Expected: 80, Actual: 159]'), PyMarkdownScanFailure(scan_file='README.md', line_number=7, column_number=159, rule_id='MD009', rule_name='no-trailing-spaces', rule_description='Trailing spaces', extra_error_information=' [Expected: 0 or 2; Actual: 1]'), PyMarkdownScanFailure(scan_file='README.md', line_number=9, column_number=1, rule_id='MD013', rule_name='line-length', rule_description='Line length', extra_error_information=' [Expected: 80, Actual: 124]'), PyMarkdownScanFailure(scan_file='README.md', line_number=11, column_number=1, rule_id='MD013', rule_name='line-length', rule_description='Line length', extra_error_information=' [Expected: 80, Actual: 111]'), PyMarkdownScanFailure(scan_file='README.md', line_number=13, column_number=1, rule_id='MD022', rule_name='blanks-around-headings,blanks-around-headers', rule_description='Headings should be surrounded by blank lines.', extra_error_information=' [Expected: 1; Actual: 0; Below]'), PyMarkdownScanFailure(scan_file='README.md', line_number=14, column_number=1, rule_id='MD013', rule_name='line-length', rule_description='Line length', extra_error_information=' [Expected: 80, Actual: 181]'), PyMarkdownScanFailure(scan_file='README.md', line_number=16, column_number=1, rule_id='MD022', rule_name='blanks-around-headings,blanks-around-headers', rule_description='Headings should be surrounded by blank lines.', extra_error_information=' [Expected: 1; Actual: 0; Below]'), PyMarkdownScanFailure(scan_file='README.md', line_number=17, column_number=47, rule_id='MD047', rule_name='single-trailing-newline', rule_description='Each file should end with a single newline character.', extra_error_information='')], pragma_errors=[])\n",
      "\u001B[00m\n",
      "\u001B[32;1m\u001B[1;3mFinal Answer:\n",
      "- Add a blank line before and after headings on lines 3, 6, 13, and 16.\n",
      "- Shorten lines on lines 4, 7, 9, 11, 14 to 80 characters or less.\n",
      "- Remove trailing spaces on line 7.\n",
      "- Ensure the file ends with a single newline character on line 17.\u001B[0m\n",
      "\n",
      "\u001B[1m> Finished chain.\u001B[0m\n",
      "- Add a blank line before and after headings on lines 3, 6, 13, and 16.\n",
      "- Shorten lines on lines 4, 7, 9, 11, 14 to 80 characters or less.\n",
      "- Remove trailing spaces on line 7.\n",
      "- Ensure the file ends with a single newline character on line 17.\n"
     ]
    }
   ],
   "execution_count": 12
  },
  {
   "metadata": {
    "ExecuteTime": {
     "end_time": "2024-08-09T20:05:23.607498Z",
     "start_time": "2024-08-09T20:05:22.107481Z"
    }
   },
   "cell_type": "code",
   "source": "agentops.end_session('Success')",
   "id": "6eeee1a76a26bd14",
   "outputs": [
    {
     "name": "stderr",
     "output_type": "stream",
     "text": [
      "🖇 AgentOps: This run's cost $0.002789\n",
      "🖇 AgentOps: \u001B[34m\u001B[34mSession Replay: https://app.agentops.ai/drilldown?session_id=abb92bd6-f875-484e-8fee-318d35f3a936\u001B[0m\u001B[0m\n"
     ]
    }
   ],
   "execution_count": 13
  },
  {
   "metadata": {},
   "cell_type": "code",
   "outputs": [],
   "execution_count": null,
   "source": "",
   "id": "4b2cdffb9add04b"
  }
 ],
 "metadata": {
  "kernelspec": {
   "display_name": "Python 3",
   "language": "python",
   "name": "python3"
  },
  "language_info": {
   "codemirror_mode": {
    "name": "ipython",
    "version": 2
   },
   "file_extension": ".py",
   "mimetype": "text/x-python",
   "name": "python",
   "nbconvert_exporter": "python",
   "pygments_lexer": "ipython2",
   "version": "2.7.6"
  }
 },
 "nbformat": 4,
 "nbformat_minor": 5
}
